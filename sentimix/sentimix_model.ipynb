{
 "cells": [
  {
   "cell_type": "code",
   "execution_count": 3,
   "metadata": {},
   "outputs": [
    {
     "data": {
      "text/plain": [
       "'1.2.0'"
      ]
     },
     "execution_count": 3,
     "metadata": {},
     "output_type": "execute_result"
    }
   ],
   "source": [
    "import torch\n",
    "torch.__version__\n",
    "#torch.cuda.is_available()"
   ]
  },
  {
   "cell_type": "code",
   "execution_count": null,
   "metadata": {},
   "outputs": [],
   "source": []
  },
  {
   "cell_type": "code",
   "execution_count": null,
   "metadata": {},
   "outputs": [],
   "source": []
  },
  {
   "cell_type": "code",
   "execution_count": 2,
   "metadata": {},
   "outputs": [
    {
     "name": "stdout",
     "output_type": "stream",
     "text": [
      "[{'tweetid': '1', 'tweet': 'With this LG G Watch you can be livin’ la vida of a secret agent … or at least look like it. http://t.co/FtlWydFEpC http://t.co/IVTb2dosL2', 'tokens': ['With', 'this', 'LG', 'G', 'Watch', 'you', 'can', 'be', 'livin', '’', 'la', 'vida', 'of', 'a', 'secret', 'agent', '…', 'or', 'at', 'least', 'look', 'like', 'it', '.', 'http://t.co/FtlWydFEpC', 'http://t.co/IVTb2dosL2'], 'langid': ['lang1', 'lang1', 'ne', 'ne', 'lang1', 'lang1', 'lang1', 'lang1', 'lang1', 'other', 'lang2', 'lang2', 'lang1', 'lang1', 'lang1', 'lang1', 'other', 'lang1', 'lang1', 'lang1', 'lang1', 'lang1', 'lang1', 'other', 'other', 'other'], 'sentiment': 'positive'}, {'tweetid': '2', 'tweet': 'RT @giovaavictoriaa: *silently whispers \"buen provecho\" to myself because i\\'m surrounded by americans*', 'tokens': ['RT', '@giovaavictoriaa', ':', '*', 'silently', 'whispers', '\"', 'buen', 'provecho', '\"', 'to', 'myself', 'because', 'i', \"'m\", 'surrounded', 'by', 'americans', '*'], 'langid': ['other', 'other', 'other', 'other', 'lang1', 'lang1', 'other', 'lang2', 'lang2', 'other', 'lang1', 'lang1', 'lang1', 'lang1', 'lang1', 'lang1', 'lang1', 'lang1', 'other'], 'sentiment': 'negative'}, {'tweetid': '3', 'tweet': 'RT @samanthvgh: 62. Sorry this took so long! Ya boy Zuko, we all lowkey loved him https://t.co/qMVOjfBPbq', 'tokens': ['RT', '@samanthvgh', ':', '62', '.', 'Sorry', 'this', 'took', 'so', 'long', '!', 'Ya', 'boy', 'Zuko', ',', 'we', 'all', 'lowkey', 'loved', 'him', 'https://t.co/qMVOjfBPbq'], 'langid': ['other', 'other', 'other', 'other', 'other', 'lang1', 'lang1', 'lang1', 'lang1', 'lang1', 'other', 'lang2', 'lang1', 'ne', 'other', 'lang1', 'lang1', 'lang1', 'lang1', 'lang1', 'other'], 'sentiment': 'positive'}, {'tweetid': '4', 'tweet': 'RT @alebberrios: Goals de este año: ir a un concierto de Coldplay o si no me da algo!!', 'tokens': ['RT', '@alebberrios', ':', 'Goals', 'de', 'este', 'año', ':', 'ir', 'a', 'un', 'concierto', 'de', 'Coldplay', 'o', 'si', 'no', 'me', 'da', 'algo', '!!'], 'langid': ['other', 'other', 'other', 'lang1', 'lang2', 'lang2', 'lang2', 'other', 'lang2', 'lang2', 'lang2', 'lang2', 'lang2', 'ne', 'lang2', 'lang2', 'lang2', 'lang2', 'lang2', 'lang2', 'other'], 'sentiment': 'positive'}, {'tweetid': '5', 'tweet': '#highfashion curso #chicModel para jóvenes de 13 años en adelante Imagen Modeling by la… https://t.co/pBmrlQq8DY', 'tokens': ['#highfashion', 'curso', '#chicModel', 'para', 'jóvenes', 'de', '13', 'años', 'en', 'adelante', 'Imagen', 'Modeling', 'by', 'la', '…', 'https://t.co/pBmrlQq8DY'], 'langid': ['lang1', 'lang2', 'lang1', 'lang2', 'lang2', 'lang2', 'other', 'lang2', 'lang2', 'lang2', 'lang2', 'lang1', 'lang1', 'lang2', 'other', 'other'], 'sentiment': 'positive'}, {'tweetid': '6', 'tweet': 'RT @EricYaell: Me canso de la gente rápido, no me gusta eso man', 'tokens': ['RT', '@EricYaell', ':', 'Me', 'canso', 'de', 'la', 'gente', 'rápido', ',', 'no', 'me', 'gusta', 'eso', 'man'], 'langid': ['other', 'other', 'other', 'lang2', 'lang2', 'lang2', 'lang2', 'lang2', 'lang2', 'other', 'lang2', 'lang2', 'lang2', 'lang2', 'lang1'], 'sentiment': 'positive'}]\n"
     ]
    }
   ],
   "source": [
    "import json\n",
    "\n",
    "myf =\"/home/cic/Downloads/sentimix_trial.json\"\n",
    "with open(myf) as json_file:\n",
    "    data = json.load(json_file)"
   ]
  },
  {
   "cell_type": "code",
   "execution_count": null,
   "metadata": {},
   "outputs": [],
   "source": []
  }
 ],
 "metadata": {
  "kernelspec": {
   "display_name": "torch3.7",
   "language": "python",
   "name": "torch3.7"
  },
  "language_info": {
   "codemirror_mode": {
    "name": "ipython",
    "version": 3
   },
   "file_extension": ".py",
   "mimetype": "text/x-python",
   "name": "python",
   "nbconvert_exporter": "python",
   "pygments_lexer": "ipython3",
   "version": "3.7.4"
  }
 },
 "nbformat": 4,
 "nbformat_minor": 2
}
